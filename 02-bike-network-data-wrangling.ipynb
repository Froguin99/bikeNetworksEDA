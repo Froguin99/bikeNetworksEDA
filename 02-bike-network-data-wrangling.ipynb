{
 "cells": [
  {
   "attachments": {},
   "cell_type": "markdown",
   "metadata": {},
   "source": [
    "**Bike Network Data Wrangling**"
   ]
  },
  {
   "attachments": {},
   "cell_type": "markdown",
   "metadata": {},
   "source": [
    "This script takes the .csv files produced in script 01-bike-network-metric-generation.ipynb and munges the data to create files that are easier to work with."
   ]
  },
  {
   "cell_type": "code",
   "execution_count": 1,
   "metadata": {},
   "outputs": [],
   "source": [
    "# libary imports\n",
    "import geopandas as gpd\n",
    "import pandas as pd\n",
    "import os\n",
    "import glob\n",
    "\n",
    "# get working directory\n",
    "working_directory =  os.getcwd()\n"
   ]
  },
  {
   "cell_type": "code",
   "execution_count": 2,
   "metadata": {},
   "outputs": [
    {
     "name": "stderr",
     "output_type": "stream",
     "text": [
      "C:\\Users\\b8008458\\AppData\\Local\\Temp\\ipykernel_23884\\4237037577.py:13: FutureWarning: The default value of regex will change from True to False in a future version.\n",
      "  metrics['place'] = metrics['place'].str.replace('.csv','') # remove spare data\n",
      "C:\\Users\\b8008458\\AppData\\Local\\Temp\\ipykernel_23884\\4237037577.py:13: FutureWarning: The default value of regex will change from True to False in a future version.\n",
      "  metrics['place'] = metrics['place'].str.replace('.csv','') # remove spare data\n",
      "C:\\Users\\b8008458\\AppData\\Local\\Temp\\ipykernel_23884\\4237037577.py:13: FutureWarning: The default value of regex will change from True to False in a future version.\n",
      "  metrics['place'] = metrics['place'].str.replace('.csv','') # remove spare data\n",
      "C:\\Users\\b8008458\\AppData\\Local\\Temp\\ipykernel_23884\\4237037577.py:13: FutureWarning: The default value of regex will change from True to False in a future version.\n",
      "  metrics['place'] = metrics['place'].str.replace('.csv','') # remove spare data\n",
      "C:\\Users\\b8008458\\AppData\\Local\\Temp\\ipykernel_23884\\4237037577.py:13: FutureWarning: The default value of regex will change from True to False in a future version.\n",
      "  metrics['place'] = metrics['place'].str.replace('.csv','') # remove spare data\n",
      "C:\\Users\\b8008458\\AppData\\Local\\Temp\\ipykernel_23884\\4237037577.py:13: FutureWarning: The default value of regex will change from True to False in a future version.\n",
      "  metrics['place'] = metrics['place'].str.replace('.csv','') # remove spare data\n",
      "C:\\Users\\b8008458\\AppData\\Local\\Temp\\ipykernel_23884\\4237037577.py:13: FutureWarning: The default value of regex will change from True to False in a future version.\n",
      "  metrics['place'] = metrics['place'].str.replace('.csv','') # remove spare data\n",
      "C:\\Users\\b8008458\\AppData\\Local\\Temp\\ipykernel_23884\\4237037577.py:13: FutureWarning: The default value of regex will change from True to False in a future version.\n",
      "  metrics['place'] = metrics['place'].str.replace('.csv','') # remove spare data\n",
      "C:\\Users\\b8008458\\AppData\\Local\\Temp\\ipykernel_23884\\4237037577.py:13: FutureWarning: The default value of regex will change from True to False in a future version.\n",
      "  metrics['place'] = metrics['place'].str.replace('.csv','') # remove spare data\n",
      "C:\\Users\\b8008458\\AppData\\Local\\Temp\\ipykernel_23884\\4237037577.py:13: FutureWarning: The default value of regex will change from True to False in a future version.\n",
      "  metrics['place'] = metrics['place'].str.replace('.csv','') # remove spare data\n",
      "C:\\Users\\b8008458\\AppData\\Local\\Temp\\ipykernel_23884\\4237037577.py:13: FutureWarning: The default value of regex will change from True to False in a future version.\n",
      "  metrics['place'] = metrics['place'].str.replace('.csv','') # remove spare data\n",
      "C:\\Users\\b8008458\\AppData\\Local\\Temp\\ipykernel_23884\\4237037577.py:13: FutureWarning: The default value of regex will change from True to False in a future version.\n",
      "  metrics['place'] = metrics['place'].str.replace('.csv','') # remove spare data\n",
      "C:\\Users\\b8008458\\AppData\\Local\\Temp\\ipykernel_23884\\4237037577.py:13: FutureWarning: The default value of regex will change from True to False in a future version.\n",
      "  metrics['place'] = metrics['place'].str.replace('.csv','') # remove spare data\n",
      "C:\\Users\\b8008458\\AppData\\Local\\Temp\\ipykernel_23884\\4237037577.py:13: FutureWarning: The default value of regex will change from True to False in a future version.\n",
      "  metrics['place'] = metrics['place'].str.replace('.csv','') # remove spare data\n",
      "C:\\Users\\b8008458\\AppData\\Local\\Temp\\ipykernel_23884\\4237037577.py:13: FutureWarning: The default value of regex will change from True to False in a future version.\n",
      "  metrics['place'] = metrics['place'].str.replace('.csv','') # remove spare data\n",
      "C:\\Users\\b8008458\\AppData\\Local\\Temp\\ipykernel_23884\\4237037577.py:13: FutureWarning: The default value of regex will change from True to False in a future version.\n",
      "  metrics['place'] = metrics['place'].str.replace('.csv','') # remove spare data\n",
      "C:\\Users\\b8008458\\AppData\\Local\\Temp\\ipykernel_23884\\4237037577.py:13: FutureWarning: The default value of regex will change from True to False in a future version.\n",
      "  metrics['place'] = metrics['place'].str.replace('.csv','') # remove spare data\n",
      "C:\\Users\\b8008458\\AppData\\Local\\Temp\\ipykernel_23884\\4237037577.py:13: FutureWarning: The default value of regex will change from True to False in a future version.\n",
      "  metrics['place'] = metrics['place'].str.replace('.csv','') # remove spare data\n",
      "C:\\Users\\b8008458\\AppData\\Local\\Temp\\ipykernel_23884\\4237037577.py:13: FutureWarning: The default value of regex will change from True to False in a future version.\n",
      "  metrics['place'] = metrics['place'].str.replace('.csv','') # remove spare data\n",
      "C:\\Users\\b8008458\\AppData\\Local\\Temp\\ipykernel_23884\\4237037577.py:13: FutureWarning: The default value of regex will change from True to False in a future version.\n",
      "  metrics['place'] = metrics['place'].str.replace('.csv','') # remove spare data\n",
      "C:\\Users\\b8008458\\AppData\\Local\\Temp\\ipykernel_23884\\4237037577.py:13: FutureWarning: The default value of regex will change from True to False in a future version.\n",
      "  metrics['place'] = metrics['place'].str.replace('.csv','') # remove spare data\n",
      "C:\\Users\\b8008458\\AppData\\Local\\Temp\\ipykernel_23884\\4237037577.py:13: FutureWarning: The default value of regex will change from True to False in a future version.\n",
      "  metrics['place'] = metrics['place'].str.replace('.csv','') # remove spare data\n",
      "C:\\Users\\b8008458\\AppData\\Local\\Temp\\ipykernel_23884\\4237037577.py:13: FutureWarning: The default value of regex will change from True to False in a future version.\n",
      "  metrics['place'] = metrics['place'].str.replace('.csv','') # remove spare data\n",
      "C:\\Users\\b8008458\\AppData\\Local\\Temp\\ipykernel_23884\\4237037577.py:13: FutureWarning: The default value of regex will change from True to False in a future version.\n",
      "  metrics['place'] = metrics['place'].str.replace('.csv','') # remove spare data\n"
     ]
    }
   ],
   "source": [
    "# get a list of all locations output from script 01\n",
    "\n",
    "globbed_files = glob.glob(working_directory + \"\\data\\\\places\\\\*.csv\" )\n",
    "\n",
    "# set loop counter\n",
    "counter = 1\n",
    "\n",
    "# transpose and join all csv files\n",
    "\n",
    "for csv in globbed_files:\n",
    "    metrics = pd.read_csv(csv) # read in csv\n",
    "    metrics['place'] = os.path.basename(csv) # get place name\n",
    "    metrics['place'] = metrics['place'].str.replace('.csv','') # remove spare data\n",
    "    metrics.drop('Unnamed: 0', axis=1, inplace=True, errors='ignore') # remove spare columns \n",
    "    place = metrics.at[0,'place'] # save place as variable\n",
    "    metrics.loc[len(metrics.index)] = ['place', place, place, place] # add place as row\n",
    "    metrics.drop('place', axis=1, inplace=True) # remove unneeded columns \n",
    "    metrics.drop([6,7], axis=0, inplace=True) # remove unneeded rows\n",
    "    metrics.set_index('metric') \n",
    "\n",
    "    # create base dataframe for other files to joined to\n",
    "    if counter == 1:\n",
    "        a = metrics\n",
    "        a = a.T\n",
    "        a.columns = a.iloc[0]\n",
    "        a = a.iloc[1:] # remove spare row\n",
    "        a = a.T\n",
    "        a_headers = a.columns.tolist()\n",
    "        a_place = a.loc['place','bike_values']\n",
    "        a.columns = ['bike_values ' + a_place, 'road_values ' + a_place] # move from having two rows to one combined row\n",
    "        counter = counter + 1\n",
    "\n",
    "    else:\n",
    "        b = metrics\n",
    "        b = b.T  \n",
    "        b.columns = b.iloc[0]\n",
    "        b = b.iloc[1:]\n",
    "        b = b.T\n",
    "        b_headers = b.columns.tolist()\n",
    "        b_place = b.loc['place','bike_values']\n",
    "        b.columns = ['bike_values ' + b_place, 'road_values ' + b_place]\n",
    "        c = a.join(b, how = 'outer').drop_duplicates() # join dataframes together\n",
    "        a = c  # reset dataframe a\n",
    "        counter = counter + 1 \n"
   ]
  },
  {
   "cell_type": "code",
   "execution_count": 3,
   "metadata": {},
   "outputs": [],
   "source": [
    "# transpose dataframe\n",
    "c = c.T\n",
    "\n",
    "# split dataframe\n",
    "bike_df = c.iloc[::2, :]\n",
    "road_df = c.iloc[1::2, :]\n",
    "\n",
    "# change column headings before rejoining\n",
    "road_df.columns = [str(col) + '_road' for col in road_df.columns]\n",
    "bike_df.columns = [str(col) + '_bike' for col in bike_df.columns]\n",
    "\n",
    "# set temp index\n",
    "bike_df.insert(0, 'temp_index', range(0, len(bike_df)))\n",
    "road_df.insert(0, 'temp_index', range(0, len(road_df)))\n",
    "\n",
    "# merge and set place as index\n",
    "combined_df = bike_df.merge(road_df, on = 'temp_index')\n",
    "combined_df = combined_df.set_index('place_bike')\n",
    "\n",
    "combined_df = combined_df.drop('temp_index', axis = 1)\n",
    "combined_df = combined_df.drop('place_road', axis = 1)\n",
    "\n",
    "# reset axis name\n",
    "combined_df = combined_df.rename_axis('place')\n",
    "\n",
    "# clean dataframe\n",
    "combined_df = combined_df.drop(['0way_int_count_bike', '0way_int_prop_bike'], axis=1, errors='ignore')\n",
    "\n",
    "# clean bike dataframe\n",
    "bike_df = bike_df.drop('temp_index', axis = 1)\n",
    "bike_df = bike_df.set_index('place_bike')\n",
    "bike_df = bike_df.rename_axis('place')\n",
    "bike_df = bike_df.drop(['0way_int_count_bike', '0way_int_prop_bike'], axis=1, errors='ignore')\n",
    "\n",
    "# clean road dataframe\n",
    "road_df = road_df.drop('temp_index', axis = 1)\n",
    "road_df = road_df.set_index('place_road')\n",
    "road_df = road_df.rename_axis('place')\n",
    "road_df = road_df.drop(['0way_int_count_bike', '0way_int_prop_bike'], axis=1, errors='ignore')"
   ]
  },
  {
   "cell_type": "code",
   "execution_count": 4,
   "metadata": {},
   "outputs": [],
   "source": [
    "# save to csv file\n",
    "\n",
    "combined_df.to_csv(working_directory + \"\\Data\\\\Cleaned_Data\\\\combined_places.csv\")\n",
    "\n",
    "bike_df.to_csv(working_directory + \"\\Data\\\\Cleaned_Data\\\\bike_place.csv\")\n",
    "\n",
    "road_df.to_csv(working_directory + \"\\Data\\\\Cleaned_Data\\\\road_places.csv\")\n"
   ]
  }
 ],
 "metadata": {
  "kernelspec": {
   "display_name": "Python 3",
   "language": "python",
   "name": "python3"
  },
  "language_info": {
   "codemirror_mode": {
    "name": "ipython",
    "version": 3
   },
   "file_extension": ".py",
   "mimetype": "text/x-python",
   "name": "python",
   "nbconvert_exporter": "python",
   "pygments_lexer": "ipython3",
   "version": "3.9.13"
  },
  "orig_nbformat": 4,
  "vscode": {
   "interpreter": {
    "hash": "0c357438972abffd2913e8ab45eeeee60fa6c9a6a59a4da16da6bf9e0e97f449"
   }
  }
 },
 "nbformat": 4,
 "nbformat_minor": 2
}
